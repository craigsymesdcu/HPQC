{
 "cells": [
  {
   "cell_type": "markdown",
   "id": "2ed5f4b6-625d-47c6-9372-aaca66b02b86",
   "metadata": {},
   "source": [
    "### Instruction 1: Push a Qubit onto the Stack"
   ]
  },
  {
   "cell_type": "code",
   "execution_count": 30,
   "id": "fb3cbabd-4693-46e3-8d1a-3f743b6e302e",
   "metadata": {},
   "outputs": [],
   "source": [
    "import numpy as np\n",
    "\n",
    "def pushQubit(weights):\n",
    "    global workspace\n",
    "    workspace = np.reshape(workspace,(1,-1))\n",
    "    workspace = np.kron(workspace,weights)"
   ]
  },
  {
   "cell_type": "code",
   "execution_count": 31,
   "id": "0311bced-62a1-41bc-befe-b59d1bbeb402",
   "metadata": {},
   "outputs": [
    {
     "name": "stdout",
     "output_type": "stream",
     "text": [
      "[[1. 0.]]\n",
      "[[0.6 0.8 0.  0. ]]\n"
     ]
    }
   ],
   "source": [
    "workspace = np.array([[1.]])       # create empty qubit stack pushQubit([1,0])\n",
    "pushQubit([1,0])\n",
    "print(workspace)\n",
    "pushQubit([3/5,4/5])               # push a 2nd qubit print(workspace)\n",
    "print(workspace)"
   ]
  },
  {
   "cell_type": "markdown",
   "id": "7ee3a353-61e4-4328-94d3-9dee43c01735",
   "metadata": {},
   "source": [
    "### Instruction 2: Perform a Gate Operation"
   ]
  },
  {
   "cell_type": "code",
   "execution_count": 32,
   "id": "fbfaf076-f111-40e8-8bc1-a0989ff5c0ff",
   "metadata": {},
   "outputs": [],
   "source": [
    "def applyGate(gate):\n",
    "    global workspace\n",
    "    workspace = np.reshape(workspace,(-1,gate.shape[0]))     \n",
    "    np.matmul(workspace,gate.T,out=workspace)"
   ]
  },
  {
   "cell_type": "code",
   "execution_count": 33,
   "id": "7440dbda-706b-456e-8cc4-544cc80592a3",
   "metadata": {},
   "outputs": [],
   "source": [
    "X_gate = np.array([[0, 1],   # Pauli X gate \n",
    "                  [1, 0]])   # = NOT gate"
   ]
  },
  {
   "cell_type": "code",
   "execution_count": 34,
   "id": "0e23022b-721a-45fb-b0d4-d0edab375beb",
   "metadata": {},
   "outputs": [
    {
     "data": {
      "text/plain": [
       "array([0, 1])"
      ]
     },
     "execution_count": 34,
     "metadata": {},
     "output_type": "execute_result"
    }
   ],
   "source": [
    " np.matmul(X_gate,[1,0])"
   ]
  },
  {
   "cell_type": "code",
   "execution_count": 35,
   "id": "d5694bea-bb6f-4ad8-a714-8bb46fc18d6b",
   "metadata": {},
   "outputs": [
    {
     "name": "stdout",
     "output_type": "stream",
     "text": [
      "input [[1. 0.]]\n",
      "output [[0. 1.]]\n"
     ]
    }
   ],
   "source": [
    "workspace = np.array([[1.]])       # reset workspace \n",
    "pushQubit([1,0])\n",
    "print(\"input\",workspace)\n",
    "applyGate(X_gate)                  # = NOT \n",
    "print(\"output\",workspace)"
   ]
  },
  {
   "cell_type": "code",
   "execution_count": 36,
   "id": "d4569c54-4c63-4d1d-b304-2b7f942ce9fe",
   "metadata": {},
   "outputs": [],
   "source": [
    "H_gate = np.array([[1, 1],                         # Hadamard gate \n",
    "                  [1,-1]]) * np.sqrt(1/2)"
   ]
  },
  {
   "cell_type": "code",
   "execution_count": 37,
   "id": "08d26821-2aa3-4ffc-93f9-c61b5593dbfc",
   "metadata": {},
   "outputs": [
    {
     "name": "stdout",
     "output_type": "stream",
     "text": [
      "input [[1. 0.]]\n",
      "output [[0.70710678 0.70710678]]\n"
     ]
    }
   ],
   "source": [
    "workspace = np.array([[1.]])\n",
    "pushQubit([1,0])\n",
    "print(\"input\",workspace)\n",
    "applyGate(H_gate)\n",
    "print(\"output\",workspace)"
   ]
  },
  {
   "cell_type": "code",
   "execution_count": 38,
   "id": "476c80c6-12f6-44c3-bf1f-1238f341f1e5",
   "metadata": {},
   "outputs": [
    {
     "name": "stdout",
     "output_type": "stream",
     "text": [
      "input [[0.6+0.j 0.8+0.j]]\n",
      "output [[0.6       +0.j         0.56568542+0.56568542j]]\n"
     ]
    }
   ],
   "source": [
    "T_gate = np.array([[1,                0],\n",
    "                   [0,np.exp(np.pi/-4j)]])\n",
    "workspace = np.array([[1.+0j]])       # set complex workspace pushQubit([.6,.8])\n",
    "# Initialize with single qubit state [0.6, 0.8]\n",
    "pushQubit([0.6, 0.8])\n",
    "\n",
    "print(\"input\",workspace)\n",
    "applyGate(T_gate)\n",
    "print(\"output\",workspace)"
   ]
  },
  {
   "cell_type": "code",
   "execution_count": 39,
   "id": "34964297-3782-4f36-bb8e-6b877510e819",
   "metadata": {},
   "outputs": [],
   "source": [
    "SWAP_gate = np.array([[1, 0, 0, 0],\n",
    "                      [0, 0, 1, 0],\n",
    "                      [0, 1, 0, 0],\n",
    "                      [0, 0, 0, 1]])"
   ]
  },
  {
   "cell_type": "code",
   "execution_count": 40,
   "id": "25ea717d-00fd-48f9-a3b2-a22c07e37f6f",
   "metadata": {},
   "outputs": [
    {
     "name": "stdout",
     "output_type": "stream",
     "text": [
      "[[0.6 0.8 0.  0. ]]\n",
      "[[0.6 0.  0.8 0. ]]\n"
     ]
    }
   ],
   "source": [
    "workspace = np.array([[1.]])\n",
    "pushQubit([1,0])                          # qubit 1\n",
    "pushQubit([0.6,0.8])                      # qubit 2\n",
    "print(workspace.real)\n",
    "applyGate(SWAP_gate)\n",
    "print(workspace.real)"
   ]
  },
  {
   "cell_type": "code",
   "execution_count": 41,
   "id": "5e7a3aa1-c713-4e45-8c8b-dda676b49e3c",
   "metadata": {},
   "outputs": [],
   "source": [
    "X_gate = np.array([[0, 1],                      # Pauli X gate\n",
    "                   [1, 0]])                     # = NOT gate\n",
    "\n",
    "Y_gate = np.array([[ 0,-1j],                    # Pauli Y gate\n",
    "                   [1j,  0]])                   # = SHZHZS\n",
    "  \n",
    "Z_gate = np.array([[1, 0],                      # Pauli Z gate\n",
    "                   [0,-1]])                     # = P(pi) = S^2\n",
    "                                                # = HXH\n",
    "\n",
    "H_gate = np.array([[1, 1],                      # Hadamard gate \n",
    "                   [1,-1]]) * np.sqrt(1/2)\n",
    "\n",
    "S_gate = np.array([[1, 0],                      # Phase gate\n",
    "                   [0,1j]])                     # = P(pi/2) = T^2\n",
    "                   \n",
    "T_gate = np.array([[1,                0],       # = P(pi/4)\n",
    "                   [0,np.exp(np.pi/-4j)]])\n",
    "                   \n",
    "Tinv_gate = np.array([[1, 0],                   # = P(-pi/4) \n",
    "                      [0,np.exp(np.pi/4j)]])    # = T^-1\n",
    "                      \n",
    "def P_gate(phi):                                # Phase shift gate\n",
    "    return np.array([[1,             0],\n",
    "                     [0,np.exp(phi*1j)]])\n",
    "                     \n",
    "def Rx_gate(theta):                             # Y rotation gate\n",
    "    return np.array([[np.cos(theta/2),-1j*np.sin(theta/2)],\n",
    "                     [-1j*np.sin(theta/2),np.cos(theta/2)]])\n",
    "                     \n",
    "def Ry_gate(theta):                             # Y rotation gate return \n",
    "    np.array([[np.cos(theta/2),-np.sin(theta/2)],\n",
    "              [np.sin(theta/2), np.cos(theta/2)]])\n",
    "              \n",
    "def Rz_gate(theta):                             # Z rotation gate \n",
    "    return np.array([[np.exp(-1j*theta/2),                0],\n",
    "                     [                  0,np.exp(1j*theta/2)]])\n",
    "                     \n",
    "CNOT_gate = np.array([[1, 0, 0, 0],             # Ctled NOT gate\n",
    "                      [0, 1, 0, 0],             #=XORgate\n",
    "                      [0, 0, 0, 1],\n",
    "                      [0, 0, 1, 0]])\n",
    "                      \n",
    "CZ_gate = np.array([[1, 0, 0, 0],               # Ctled Z gate\n",
    "                    [0, 1, 0, 0],\n",
    "                    [0, 0, 1, 0],\n",
    "                    [0, 0, 0,-1]])\n",
    "                    \n",
    "SWAP_gate = np.array([[1, 0, 0, 0],             # Swap gate\n",
    "                      [0, 0, 1, 0],\n",
    "                      [0, 1, 0, 0],\n",
    "                      [0, 0, 0, 1]])\n",
    "                      \n",
    "TOFF_gate = np.array([[1, 0, 0, 0, 0, 0, 0, 0], # Toffoli gate\n",
    "                     [0, 1, 0, 0, 0, 0, 0, 0],\n",
    "                     [0, 0, 1, 0, 0, 0, 0, 0],\n",
    "                     [0, 0, 0, 1, 0, 0, 0, 0],\n",
    "                     [0, 0, 0, 0, 1, 0, 0, 0],\n",
    "                     [0, 0, 0, 0, 0, 1, 0, 0],\n",
    "                     [0, 0, 0, 0, 0, 0, 0, 1],\n",
    "                     [0, 0, 0, 0, 0, 0, 1, 0]])"
   ]
  },
  {
   "cell_type": "markdown",
   "id": "93af4e22-63d5-40df-b263-01fb42a2e86e",
   "metadata": {},
   "source": [
    "## Instruction 3: Move a Qubit to the Top of the Stack"
   ]
  },
  {
   "cell_type": "code",
   "execution_count": 42,
   "id": "f6f6a238-5172-4531-a2e2-76dc6247c7f9",
   "metadata": {},
   "outputs": [],
   "source": [
    "def tosQubit(k):\n",
    "    global workspace\n",
    "    if k > 1:                                               # if non-trivial\n",
    "        workspace = np.reshape(workspace,(-1,2,2**(k-1)))\n",
    "        workspace = np.swapaxes(workspace,-2,-1)"
   ]
  },
  {
   "cell_type": "code",
   "execution_count": 43,
   "id": "97dc3560-1e7e-40d3-8a2a-9930656becb9",
   "metadata": {},
   "outputs": [
    {
     "name": "stdout",
     "output_type": "stream",
     "text": [
      "[[0.6 0.8 0.  0. ]]\n",
      "[[[0.6 0. ]\n",
      "  [0.8 0. ]]]\n"
     ]
    }
   ],
   "source": [
    "workspace = np.array([[1.]])\n",
    "pushQubit([1,0])\n",
    "pushQubit([0.6,0.8])\n",
    "print(workspace.real)\n",
    "tosQubit(2)\n",
    "print(workspace.real)"
   ]
  },
  {
   "cell_type": "code",
   "execution_count": 44,
   "id": "f3790e55-7444-47be-b09f-e1b06c8d3946",
   "metadata": {},
   "outputs": [
    {
     "name": "stdout",
     "output_type": "stream",
     "text": [
      "[[0.6 0.  0.8 0. ]]\n"
     ]
    }
   ],
   "source": [
    "print(np.reshape(workspace.real,(1,-1)))"
   ]
  },
  {
   "cell_type": "markdown",
   "id": "b1f12a1b-7742-42e3-9eee-80169c9dc1a3",
   "metadata": {},
   "source": [
    "### Instruction 4: Measure a Qubit"
   ]
  },
  {
   "cell_type": "code",
   "execution_count": 45,
   "id": "e52fd804-e27f-4210-bf20-4c45bce2e6b6",
   "metadata": {},
   "outputs": [],
   "source": [
    "def probQubit():\n",
    "    global workspace\n",
    "    workspace = np.reshape(workspace,(-1,2)) \n",
    "    return np.linalg.norm(workspace,axis=0)**2\n",
    "def measureQubit():\n",
    "    global workspace\n",
    "    prob = probQubit()\n",
    "    measurement = np.random.choice(2,p=prob)         # select 0 or 1 \n",
    "    workspace = (workspace[:,[measurement]]/\n",
    "    np.sqrt(prob[measurement])) \n",
    "    return str(measurement)"
   ]
  },
  {
   "cell_type": "code",
   "execution_count": 46,
   "id": "2dcd6064-0b44-4ba3-8555-b734987a1fcb",
   "metadata": {},
   "outputs": [
    {
     "name": "stdout",
     "output_type": "stream",
     "text": [
      "111111001111111100111101010000"
     ]
    }
   ],
   "source": [
    "workspace = np.array([[1. ]])\n",
    "for n in range(30):\n",
    "    pushQubit([0.6,0.8])\n",
    "    print(measureQubit(), end=\"\")"
   ]
  },
  {
   "cell_type": "code",
   "execution_count": 47,
   "id": "6d8d04ae-d524-44fb-bd2c-c76ec12463b4",
   "metadata": {},
   "outputs": [
    {
     "name": "stdout",
     "output_type": "stream",
     "text": [
      "111,100,010,100,111,000,111,000,111,010,010,010,010,100,000,010,"
     ]
    }
   ],
   "source": [
    "workspace = np.array([[1.]]) \n",
    "for i in range(16):\n",
    "    pushQubit([1,0])                      # push a zero qubit\n",
    "    applyGate(H_gate)                     # set equal 0 and 1 probability\n",
    "    pushQubit([1,0])                      # push a 2nd zero qubit\n",
    "    applyGate(H_gate)                     # set equal 0 and 1 probability\n",
    "    pushQubit([1,0])                      # push a dummy zero qubit\n",
    "    applyGate(TOFF_gate)                  # compute Q3 = Q1 AND Q2\n",
    "    q3 = measureQubit()                   # pop qubit 3\n",
    "    q2 = measureQubit()                   # pop qubit 2\n",
    "    q1 = measureQubit()                   # pop qubit 1\n",
    "    print(q1+q2+q3,end=\",\")\n"
   ]
  },
  {
   "cell_type": "markdown",
   "id": "0cf55a5a-923d-49ab-9ad9-809f5756c4ea",
   "metadata": {},
   "source": [
    "### Some Code Improvements"
   ]
  },
  {
   "cell_type": "code",
   "execution_count": 48,
   "id": "d4493c2a-f0f9-4583-a3e5-addbbc914de5",
   "metadata": {},
   "outputs": [],
   "source": [
    "\n",
    "def pushQubit(name,weights):\n",
    "    global workspace\n",
    "    global namestack\n",
    "    if workspace.shape == (1,1):                  # if workspace empty\n",
    "        namestack = []                            # then reset\n",
    "    namestack.append(name)                        # push name\n",
    "    weights = weights/np.linalg.norm(weights)     # normalize \n",
    "    weights = np.array(weights,dtype=workspace[0,0].dtype) \n",
    "    workspace = np.reshape(workspace,(1,-1))      # to row vector \n",
    "    workspace = np.kron(workspace,weights)\n"
   ]
  },
  {
   "cell_type": "code",
   "execution_count": 49,
   "id": "142b25db-9989-4b42-a757-a870590594f6",
   "metadata": {},
   "outputs": [
    {
     "name": "stdout",
     "output_type": "stream",
     "text": [
      "[[0.70710678 0.70710678]]\n",
      "['Q1']\n",
      "['Q1', 'Q2']\n",
      "[[0.         0.70710678 0.         0.70710678]]\n"
     ]
    }
   ],
   "source": [
    "workspace = np.array([[1.]])        # create empty qubit stack \n",
    "pushQubit(\"Q1\",[1,1])               # push a qubit \n",
    "print(np.reshape(workspace,(1,-1))) # print workspace as vector print(namestack)\n",
    "print(namestack)\n",
    "pushQubit(\"Q2\",[0,1])               # push a 2nd qubit \n",
    "print(namestack)\n",
    "print(np.reshape(workspace,(1,-1))) # print workspace as vector print(namestack)"
   ]
  },
  {
   "cell_type": "code",
   "execution_count": 50,
   "id": "d9244e01-837f-483f-9761-588128345355",
   "metadata": {},
   "outputs": [],
   "source": [
    "def tosQubit(name):\n",
    "    global workspace\n",
    "    global namestack\n",
    "    k = len(namestack)-namestack.index(name)    # qubit pos\n",
    "    if k > 1:                                   # if non-trivial\n",
    "        namestack.append(namestack.pop(-k))         # rotate name stack \n",
    "    workspace = np.reshape(workspace,(-1,2,2**(k-1))) \n",
    "    workspace = np.swapaxes(workspace,-2,-1)"
   ]
  },
  {
   "cell_type": "code",
   "execution_count": 51,
   "id": "dc489e77-588a-48b2-9d77-3fc515d1b162",
   "metadata": {},
   "outputs": [
    {
     "name": "stdout",
     "output_type": "stream",
     "text": [
      "[[0.         0.70710678 0.         0.70710678]]\n",
      "['Q1', 'Q2']\n",
      "[[0.         0.         0.70710678 0.70710678]]\n"
     ]
    }
   ],
   "source": [
    "print(np.reshape(workspace,(1,-1)))  # print workspace as vector \n",
    "print(namestack)\n",
    "tosQubit(\"Q1\")                       # swap qubits\n",
    "print(np.reshape(workspace,(1,-1)))  # print workspace as vector print(namestack)"
   ]
  },
  {
   "cell_type": "code",
   "execution_count": 52,
   "id": "9e66913b-de34-46a2-9ddf-fc647c4565c8",
   "metadata": {},
   "outputs": [],
   "source": [
    "def applyGate(gate,*names):\n",
    "    global workspace\n",
    "    for name in names:                   # move qubits to TOS\n",
    "            tosQubit(name)\n",
    "            workspace = np.reshape(workspace,(-1,gate.shape[0]))\n",
    "            np.matmul(workspace,gate.T,out=workspace)"
   ]
  },
  {
   "cell_type": "code",
   "execution_count": 53,
   "id": "5f6cfb2c-ec2b-4011-9998-8a4364893964",
   "metadata": {},
   "outputs": [
    {
     "name": "stdout",
     "output_type": "stream",
     "text": [
      "[[0.         0.         0.70710678 0.70710678]]\n",
      "['Q2', 'Q1']\n",
      "[[ 0.5 -0.5  0.5 -0.5]]\n",
      "['Q1', 'Q2']\n"
     ]
    }
   ],
   "source": [
    "print(np.reshape(workspace,(1,-1)))       # print workspace as vector \n",
    "print(namestack)\n",
    "applyGate(H_gate,\"Q2\")                    # H gate on qubit 2 \n",
    "print(np.reshape(workspace,(1,-1)))       # turns a 0 qubit to 1 \n",
    "print(namestack)                          # with 50% probability"
   ]
  },
  {
   "cell_type": "code",
   "execution_count": 54,
   "id": "80fe07d9-3c46-461b-91a5-84c6f943e3c3",
   "metadata": {},
   "outputs": [],
   "source": [
    "def probQubit(name):\n",
    "    global workspace\n",
    "    tosQubit(name)\n",
    "    workspace = np.reshape(workspace,(-1,2))\n",
    "    prob = np.linalg.norm(workspace,axis=0)**2\n",
    "    return prob/prob.sum()                 # make sure sum is one\n",
    "\n",
    "def measureQubit(name): \n",
    "    global workspace \n",
    "    global namestack\n",
    "    prob = probQubit(name)\n",
    "    measurement = np.random.choice(2,p=prob)\n",
    "    workspace = (workspace[:,[measurement]]/\n",
    "                 np.sqrt(prob[measurement]))\n",
    "    namestack.pop()\n",
    "    return str(measurement)"
   ]
  },
  {
   "cell_type": "code",
   "execution_count": 55,
   "id": "600a569a-4dbc-4bda-9d69-72d4f4cdcac3",
   "metadata": {},
   "outputs": [
    {
     "name": "stdout",
     "output_type": "stream",
     "text": [
      "Q1 probabilities: [0.5 0.5]\n",
      "Q2 probabilities: [0.36 0.64]\n",
      "0 1\n"
     ]
    }
   ],
   "source": [
    "workspace = np.array([[1.]])\n",
    "pushQubit(\"Q1\",[1,0])\n",
    "applyGate(H_gate,\"Q1\")\n",
    "print(\"Q1 probabilities:\", probQubit(\"Q1\")) # peek Q1 prob \n",
    "pushQubit(\"Q2\",[0.6,0.8])\n",
    "print(\"Q2 probabilities:\", probQubit(\"Q2\")) # peek Q2 prob \n",
    "print(measureQubit(\"Q1\"), measureQubit(\"Q2\"))"
   ]
  },
  {
   "cell_type": "code",
   "execution_count": 59,
   "id": "0005bf2c-ed7a-4ee1-88dd-88066c60142a",
   "metadata": {},
   "outputs": [],
   "source": [
    "def toffEquiv_gate(q1,q2,q3):               # define Toffoli gate\n",
    "    applyGate(H_gate,q3)                    # using H, T, T*, CNOT\n",
    "    applyGate(CNOT_gate,q2,q3) \n",
    "    applyGate(Tinv_gate,q3) \n",
    "    applyGate(CNOT_gate,q1,q3) \n",
    "    applyGate(T_gate,q3) \n",
    "    applyGate(CNOT_gate,q2,q3) \n",
    "    applyGate(Tinv_gate,q3) \n",
    "    applyGate(CNOT_gate,q1,q3) \n",
    "    applyGate(T_gate,q2) \n",
    "    applyGate(T_gate,q3) \n",
    "    applyGate(H_gate,q3) \n",
    "    applyGate(CNOT_gate,q1,q2) \n",
    "    applyGate(T_gate,q1) \n",
    "    applyGate(Tinv_gate,q2) \n",
    "    applyGate(CNOT_gate,q1,q2)"
   ]
  },
  {
   "cell_type": "code",
   "execution_count": 60,
   "id": "b6a1efa7-ee08-4819-a5f7-6a1cbd093de4",
   "metadata": {},
   "outputs": [],
   "source": [
    "    \n",
    "workspace = np.array([[1.+0j]])           # prep COMPLEX array"
   ]
  },
  {
   "cell_type": "code",
   "execution_count": 63,
   "id": "aadd5826-9a14-4964-8fc8-c1e696db0504",
   "metadata": {
    "scrolled": true
   },
   "outputs": [
    {
     "ename": "MemoryError",
     "evalue": "Unable to allocate 16.0 GiB for an array with shape (1, 1, 536870912, 2) and data type complex128",
     "output_type": "error",
     "traceback": [
      "\u001b[1;31m---------------------------------------------------------------------------\u001b[0m",
      "\u001b[1;31mMemoryError\u001b[0m                               Traceback (most recent call last)",
      "Cell \u001b[1;32mIn[63], line 3\u001b[0m\n\u001b[0;32m      1\u001b[0m \u001b[38;5;28;01mfor\u001b[39;00m i \u001b[38;5;129;01min\u001b[39;00m \u001b[38;5;28mrange\u001b[39m(\u001b[38;5;241m1\u001b[39m):                       \u001b[38;5;66;03m# test function\u001b[39;00m\n\u001b[0;32m      2\u001b[0m     pushQubit(\u001b[38;5;124m\"\u001b[39m\u001b[38;5;124mQ1\u001b[39m\u001b[38;5;124m\"\u001b[39m,[\u001b[38;5;241m1\u001b[39m,\u001b[38;5;241m1\u001b[39m])\n\u001b[1;32m----> 3\u001b[0m     \u001b[43mpushQubit\u001b[49m\u001b[43m(\u001b[49m\u001b[38;5;124;43m\"\u001b[39;49m\u001b[38;5;124;43mQ2\u001b[39;49m\u001b[38;5;124;43m\"\u001b[39;49m\u001b[43m,\u001b[49m\u001b[43m[\u001b[49m\u001b[38;5;241;43m1\u001b[39;49m\u001b[43m,\u001b[49m\u001b[38;5;241;43m1\u001b[39;49m\u001b[43m]\u001b[49m\u001b[43m)\u001b[49m\n\u001b[0;32m      4\u001b[0m     pushQubit(\u001b[38;5;124m\"\u001b[39m\u001b[38;5;124mQ3\u001b[39m\u001b[38;5;124m\"\u001b[39m,[\u001b[38;5;241m1\u001b[39m,\u001b[38;5;241m0\u001b[39m])\n",
      "Cell \u001b[1;32mIn[48], line 10\u001b[0m, in \u001b[0;36mpushQubit\u001b[1;34m(name, weights)\u001b[0m\n\u001b[0;32m      8\u001b[0m weights \u001b[38;5;241m=\u001b[39m np\u001b[38;5;241m.\u001b[39marray(weights,dtype\u001b[38;5;241m=\u001b[39mworkspace[\u001b[38;5;241m0\u001b[39m,\u001b[38;5;241m0\u001b[39m]\u001b[38;5;241m.\u001b[39mdtype) \n\u001b[0;32m      9\u001b[0m workspace \u001b[38;5;241m=\u001b[39m np\u001b[38;5;241m.\u001b[39mreshape(workspace,(\u001b[38;5;241m1\u001b[39m,\u001b[38;5;241m-\u001b[39m\u001b[38;5;241m1\u001b[39m))      \u001b[38;5;66;03m# to row vector \u001b[39;00m\n\u001b[1;32m---> 10\u001b[0m workspace \u001b[38;5;241m=\u001b[39m \u001b[43mnp\u001b[49m\u001b[38;5;241;43m.\u001b[39;49m\u001b[43mkron\u001b[49m\u001b[43m(\u001b[49m\u001b[43mworkspace\u001b[49m\u001b[43m,\u001b[49m\u001b[43mweights\u001b[49m\u001b[43m)\u001b[49m\n",
      "File \u001b[1;32m~\\AppData\\Local\\Programs\\Python\\Python311\\Lib\\site-packages\\numpy\\lib\\shape_base.py:1173\u001b[0m, in \u001b[0;36mkron\u001b[1;34m(a, b)\u001b[0m\n\u001b[0;32m   1171\u001b[0m b_arr \u001b[38;5;241m=\u001b[39m expand_dims(b_arr, axis\u001b[38;5;241m=\u001b[39m\u001b[38;5;28mtuple\u001b[39m(\u001b[38;5;28mrange\u001b[39m(\u001b[38;5;241m0\u001b[39m, nd\u001b[38;5;241m*\u001b[39m\u001b[38;5;241m2\u001b[39m, \u001b[38;5;241m2\u001b[39m)))\n\u001b[0;32m   1172\u001b[0m \u001b[38;5;66;03m# In case of `mat`, convert result to `array`\u001b[39;00m\n\u001b[1;32m-> 1173\u001b[0m result \u001b[38;5;241m=\u001b[39m \u001b[43m_nx\u001b[49m\u001b[38;5;241;43m.\u001b[39;49m\u001b[43mmultiply\u001b[49m\u001b[43m(\u001b[49m\u001b[43ma_arr\u001b[49m\u001b[43m,\u001b[49m\u001b[43m \u001b[49m\u001b[43mb_arr\u001b[49m\u001b[43m,\u001b[49m\u001b[43m \u001b[49m\u001b[43msubok\u001b[49m\u001b[38;5;241;43m=\u001b[39;49m\u001b[43m(\u001b[49m\u001b[38;5;129;43;01mnot\u001b[39;49;00m\u001b[43m \u001b[49m\u001b[43mis_any_mat\u001b[49m\u001b[43m)\u001b[49m\u001b[43m)\u001b[49m\n\u001b[0;32m   1175\u001b[0m \u001b[38;5;66;03m# Reshape back\u001b[39;00m\n\u001b[0;32m   1176\u001b[0m result \u001b[38;5;241m=\u001b[39m result\u001b[38;5;241m.\u001b[39mreshape(_nx\u001b[38;5;241m.\u001b[39mmultiply(as_, bs))\n",
      "\u001b[1;31mMemoryError\u001b[0m: Unable to allocate 16.0 GiB for an array with shape (1, 1, 536870912, 2) and data type complex128"
     ]
    }
   ],
   "source": [
    "for i in range(16):                       # test function \n",
    "    pushQubit(\"Q1\",[1,1])\n",
    "    pushQubit(\"Q2\",[1,1])\n",
    "    pushQubit(\"Q3\",[1,0])\n",
    "    "
   ]
  },
  {
   "cell_type": "code",
   "execution_count": 69,
   "id": "b5772177-fc9e-4da9-a646-4bbace40f1e6",
   "metadata": {},
   "outputs": [
    {
     "ename": "MemoryError",
     "evalue": "Unable to allocate 4.00 GiB for an array with shape (16, 16777216, 2) and data type float64",
     "output_type": "error",
     "traceback": [
      "\u001b[1;31m---------------------------------------------------------------------------\u001b[0m",
      "\u001b[1;31mMemoryError\u001b[0m                               Traceback (most recent call last)",
      "Cell \u001b[1;32mIn[69], line 1\u001b[0m\n\u001b[1;32m----> 1\u001b[0m \u001b[43mtoffEquiv_gate\u001b[49m\u001b[43m(\u001b[49m\u001b[38;5;124;43m\"\u001b[39;49m\u001b[38;5;124;43mQ1\u001b[39;49m\u001b[38;5;124;43m\"\u001b[39;49m\u001b[43m,\u001b[49m\u001b[38;5;124;43m\"\u001b[39;49m\u001b[38;5;124;43mQ2\u001b[39;49m\u001b[38;5;124;43m\"\u001b[39;49m\u001b[43m,\u001b[49m\u001b[38;5;124;43m\"\u001b[39;49m\u001b[38;5;124;43mQ3\u001b[39;49m\u001b[38;5;124;43m\"\u001b[39;49m\u001b[43m)\u001b[49m        \u001b[38;5;66;03m# compute Q3 = Q1 AND Q2\u001b[39;00m\n",
      "Cell \u001b[1;32mIn[59], line 2\u001b[0m, in \u001b[0;36mtoffEquiv_gate\u001b[1;34m(q1, q2, q3)\u001b[0m\n\u001b[0;32m      1\u001b[0m \u001b[38;5;28;01mdef\u001b[39;00m \u001b[38;5;21mtoffEquiv_gate\u001b[39m(q1,q2,q3):               \u001b[38;5;66;03m# define Toffoli gate\u001b[39;00m\n\u001b[1;32m----> 2\u001b[0m     \u001b[43mapplyGate\u001b[49m\u001b[43m(\u001b[49m\u001b[43mH_gate\u001b[49m\u001b[43m,\u001b[49m\u001b[43mq3\u001b[49m\u001b[43m)\u001b[49m                    \u001b[38;5;66;03m# using H, T, T*, CNOT\u001b[39;00m\n\u001b[0;32m      3\u001b[0m     applyGate(CNOT_gate,q2,q3) \n\u001b[0;32m      4\u001b[0m     applyGate(Tinv_gate,q3) \n",
      "Cell \u001b[1;32mIn[52], line 5\u001b[0m, in \u001b[0;36mapplyGate\u001b[1;34m(gate, *names)\u001b[0m\n\u001b[0;32m      3\u001b[0m \u001b[38;5;28;01mfor\u001b[39;00m name \u001b[38;5;129;01min\u001b[39;00m names:                   \u001b[38;5;66;03m# move qubits to TOS\u001b[39;00m\n\u001b[0;32m      4\u001b[0m         tosQubit(name)\n\u001b[1;32m----> 5\u001b[0m         workspace \u001b[38;5;241m=\u001b[39m \u001b[43mnp\u001b[49m\u001b[38;5;241;43m.\u001b[39;49m\u001b[43mreshape\u001b[49m\u001b[43m(\u001b[49m\u001b[43mworkspace\u001b[49m\u001b[43m,\u001b[49m\u001b[43m(\u001b[49m\u001b[38;5;241;43m-\u001b[39;49m\u001b[38;5;241;43m1\u001b[39;49m\u001b[43m,\u001b[49m\u001b[43mgate\u001b[49m\u001b[38;5;241;43m.\u001b[39;49m\u001b[43mshape\u001b[49m\u001b[43m[\u001b[49m\u001b[38;5;241;43m0\u001b[39;49m\u001b[43m]\u001b[49m\u001b[43m)\u001b[49m\u001b[43m)\u001b[49m\n\u001b[0;32m      6\u001b[0m         np\u001b[38;5;241m.\u001b[39mmatmul(workspace,gate\u001b[38;5;241m.\u001b[39mT,out\u001b[38;5;241m=\u001b[39mworkspace)\n",
      "File \u001b[1;32m~\\AppData\\Local\\Programs\\Python\\Python311\\Lib\\site-packages\\numpy\\core\\fromnumeric.py:285\u001b[0m, in \u001b[0;36mreshape\u001b[1;34m(a, newshape, order)\u001b[0m\n\u001b[0;32m    200\u001b[0m \u001b[38;5;129m@array_function_dispatch\u001b[39m(_reshape_dispatcher)\n\u001b[0;32m    201\u001b[0m \u001b[38;5;28;01mdef\u001b[39;00m \u001b[38;5;21mreshape\u001b[39m(a, newshape, order\u001b[38;5;241m=\u001b[39m\u001b[38;5;124m'\u001b[39m\u001b[38;5;124mC\u001b[39m\u001b[38;5;124m'\u001b[39m):\n\u001b[0;32m    202\u001b[0m \u001b[38;5;250m    \u001b[39m\u001b[38;5;124;03m\"\"\"\u001b[39;00m\n\u001b[0;32m    203\u001b[0m \u001b[38;5;124;03m    Gives a new shape to an array without changing its data.\u001b[39;00m\n\u001b[0;32m    204\u001b[0m \n\u001b[1;32m   (...)\u001b[0m\n\u001b[0;32m    283\u001b[0m \u001b[38;5;124;03m           [5, 6]])\u001b[39;00m\n\u001b[0;32m    284\u001b[0m \u001b[38;5;124;03m    \"\"\"\u001b[39;00m\n\u001b[1;32m--> 285\u001b[0m     \u001b[38;5;28;01mreturn\u001b[39;00m \u001b[43m_wrapfunc\u001b[49m\u001b[43m(\u001b[49m\u001b[43ma\u001b[49m\u001b[43m,\u001b[49m\u001b[43m \u001b[49m\u001b[38;5;124;43m'\u001b[39;49m\u001b[38;5;124;43mreshape\u001b[39;49m\u001b[38;5;124;43m'\u001b[39;49m\u001b[43m,\u001b[49m\u001b[43m \u001b[49m\u001b[43mnewshape\u001b[49m\u001b[43m,\u001b[49m\u001b[43m \u001b[49m\u001b[43morder\u001b[49m\u001b[38;5;241;43m=\u001b[39;49m\u001b[43morder\u001b[49m\u001b[43m)\u001b[49m\n",
      "File \u001b[1;32m~\\AppData\\Local\\Programs\\Python\\Python311\\Lib\\site-packages\\numpy\\core\\fromnumeric.py:59\u001b[0m, in \u001b[0;36m_wrapfunc\u001b[1;34m(obj, method, *args, **kwds)\u001b[0m\n\u001b[0;32m     56\u001b[0m     \u001b[38;5;28;01mreturn\u001b[39;00m _wrapit(obj, method, \u001b[38;5;241m*\u001b[39margs, \u001b[38;5;241m*\u001b[39m\u001b[38;5;241m*\u001b[39mkwds)\n\u001b[0;32m     58\u001b[0m \u001b[38;5;28;01mtry\u001b[39;00m:\n\u001b[1;32m---> 59\u001b[0m     \u001b[38;5;28;01mreturn\u001b[39;00m \u001b[43mbound\u001b[49m\u001b[43m(\u001b[49m\u001b[38;5;241;43m*\u001b[39;49m\u001b[43margs\u001b[49m\u001b[43m,\u001b[49m\u001b[43m \u001b[49m\u001b[38;5;241;43m*\u001b[39;49m\u001b[38;5;241;43m*\u001b[39;49m\u001b[43mkwds\u001b[49m\u001b[43m)\u001b[49m\n\u001b[0;32m     60\u001b[0m \u001b[38;5;28;01mexcept\u001b[39;00m \u001b[38;5;167;01mTypeError\u001b[39;00m:\n\u001b[0;32m     61\u001b[0m     \u001b[38;5;66;03m# A TypeError occurs if the object does have such a method in its\u001b[39;00m\n\u001b[0;32m     62\u001b[0m     \u001b[38;5;66;03m# class, but its signature is not identical to that of NumPy's. This\u001b[39;00m\n\u001b[1;32m   (...)\u001b[0m\n\u001b[0;32m     66\u001b[0m     \u001b[38;5;66;03m# Call _wrapit from within the except clause to ensure a potential\u001b[39;00m\n\u001b[0;32m     67\u001b[0m     \u001b[38;5;66;03m# exception has a traceback chain.\u001b[39;00m\n\u001b[0;32m     68\u001b[0m     \u001b[38;5;28;01mreturn\u001b[39;00m _wrapit(obj, method, \u001b[38;5;241m*\u001b[39margs, \u001b[38;5;241m*\u001b[39m\u001b[38;5;241m*\u001b[39mkwds)\n",
      "\u001b[1;31mMemoryError\u001b[0m: Unable to allocate 4.00 GiB for an array with shape (16, 16777216, 2) and data type float64"
     ]
    }
   ],
   "source": [
    "    toffEquiv_gate(\"Q1\",\"Q2\",\"Q3\")        # compute Q3 = Q1 AND Q2\n",
    "    "
   ]
  },
  {
   "cell_type": "code",
   "execution_count": null,
   "id": "c0b5c5ad-c438-4def-a6b7-bced19930076",
   "metadata": {},
   "outputs": [],
   "source": [
    "print(measureQubit(\"Q1\")+measureQubit(\"Q2\")+ \n",
    "      measureQubit(\"Q3\"), end=\",\")"
   ]
  },
  {
   "cell_type": "code",
   "execution_count": 70,
   "id": "dc7973ec-cf0e-4c33-9bad-6221bdd0a238",
   "metadata": {},
   "outputs": [
    {
     "ename": "IndentationError",
     "evalue": "expected an indented block after function definition on line 1 (756139540.py, line 2)",
     "output_type": "error",
     "traceback": [
      "\u001b[1;36m  Cell \u001b[1;32mIn[70], line 2\u001b[1;36m\u001b[0m\n\u001b[1;33m    pushQubit(\"temp\",[1,0]) # push a zero temporary qubit\u001b[0m\n\u001b[1;37m    ^\u001b[0m\n\u001b[1;31mIndentationError\u001b[0m\u001b[1;31m:\u001b[0m expected an indented block after function definition on line 1\n"
     ]
    }
   ],
   "source": [
    "def TOFF3_gate(q1,q2,q3,q4): # q4 = q4 XOR (q1 AND q2 AND q3) \n",
    "pushQubit(\"temp\",[1,0]) # push a zero temporary qubit \n",
    "applyGate(TOFF_gate,q1,q2,\"temp\") # t = q1 AND q2 \n",
    "applyGate(TOFF_gate,\"temp\",q3,q4) # q4 = q4 \n",
    "XOR (t AND q3) measureQubit(\"temp\") # pop temp qubit - PROBLEM HERE!"
   ]
  },
  {
   "cell_type": "code",
   "execution_count": 66,
   "id": "47966dfd-34ec-4708-a2b9-1ac14aea9e10",
   "metadata": {},
   "outputs": [
    {
     "ename": "MemoryError",
     "evalue": "Unable to allocate 8.00 GiB for an array with shape (1, 1, 536870912, 2) and data type float64",
     "output_type": "error",
     "traceback": [
      "\u001b[1;31m---------------------------------------------------------------------------\u001b[0m",
      "\u001b[1;31mMemoryError\u001b[0m                               Traceback (most recent call last)",
      "Cell \u001b[1;32mIn[66], line 11\u001b[0m\n\u001b[0;32m      9\u001b[0m \u001b[38;5;28;01mfor\u001b[39;00m i \u001b[38;5;129;01min\u001b[39;00m \u001b[38;5;28mrange\u001b[39m(\u001b[38;5;241m20\u001b[39m):                           \u001b[38;5;66;03m# generate truth table\u001b[39;00m\n\u001b[0;32m     10\u001b[0m     pushQubit(\u001b[38;5;124m\"\u001b[39m\u001b[38;5;124mQ1\u001b[39m\u001b[38;5;124m\"\u001b[39m,[\u001b[38;5;241m1\u001b[39m,\u001b[38;5;241m1\u001b[39m]) \n\u001b[1;32m---> 11\u001b[0m     \u001b[43mpushQubit\u001b[49m\u001b[43m(\u001b[49m\u001b[38;5;124;43m\"\u001b[39;49m\u001b[38;5;124;43mQ2\u001b[39;49m\u001b[38;5;124;43m\"\u001b[39;49m\u001b[43m,\u001b[49m\u001b[43m[\u001b[49m\u001b[38;5;241;43m1\u001b[39;49m\u001b[43m,\u001b[49m\u001b[38;5;241;43m1\u001b[39;49m\u001b[43m]\u001b[49m\u001b[43m)\u001b[49m \n\u001b[0;32m     12\u001b[0m     pushQubit(\u001b[38;5;124m\"\u001b[39m\u001b[38;5;124mQ3\u001b[39m\u001b[38;5;124m\"\u001b[39m,[\u001b[38;5;241m1\u001b[39m,\u001b[38;5;241m1\u001b[39m]) \n\u001b[0;32m     13\u001b[0m     pushQubit(\u001b[38;5;124m\"\u001b[39m\u001b[38;5;124mQ4\u001b[39m\u001b[38;5;124m\"\u001b[39m,[\u001b[38;5;241m1\u001b[39m,\u001b[38;5;241m0\u001b[39m])                         \u001b[38;5;66;03m# Q4 starts at zero so\u001b[39;00m\n",
      "Cell \u001b[1;32mIn[48], line 10\u001b[0m, in \u001b[0;36mpushQubit\u001b[1;34m(name, weights)\u001b[0m\n\u001b[0;32m      8\u001b[0m weights \u001b[38;5;241m=\u001b[39m np\u001b[38;5;241m.\u001b[39marray(weights,dtype\u001b[38;5;241m=\u001b[39mworkspace[\u001b[38;5;241m0\u001b[39m,\u001b[38;5;241m0\u001b[39m]\u001b[38;5;241m.\u001b[39mdtype) \n\u001b[0;32m      9\u001b[0m workspace \u001b[38;5;241m=\u001b[39m np\u001b[38;5;241m.\u001b[39mreshape(workspace,(\u001b[38;5;241m1\u001b[39m,\u001b[38;5;241m-\u001b[39m\u001b[38;5;241m1\u001b[39m))      \u001b[38;5;66;03m# to row vector \u001b[39;00m\n\u001b[1;32m---> 10\u001b[0m workspace \u001b[38;5;241m=\u001b[39m \u001b[43mnp\u001b[49m\u001b[38;5;241;43m.\u001b[39;49m\u001b[43mkron\u001b[49m\u001b[43m(\u001b[49m\u001b[43mworkspace\u001b[49m\u001b[43m,\u001b[49m\u001b[43mweights\u001b[49m\u001b[43m)\u001b[49m\n",
      "File \u001b[1;32m~\\AppData\\Local\\Programs\\Python\\Python311\\Lib\\site-packages\\numpy\\lib\\shape_base.py:1173\u001b[0m, in \u001b[0;36mkron\u001b[1;34m(a, b)\u001b[0m\n\u001b[0;32m   1171\u001b[0m b_arr \u001b[38;5;241m=\u001b[39m expand_dims(b_arr, axis\u001b[38;5;241m=\u001b[39m\u001b[38;5;28mtuple\u001b[39m(\u001b[38;5;28mrange\u001b[39m(\u001b[38;5;241m0\u001b[39m, nd\u001b[38;5;241m*\u001b[39m\u001b[38;5;241m2\u001b[39m, \u001b[38;5;241m2\u001b[39m)))\n\u001b[0;32m   1172\u001b[0m \u001b[38;5;66;03m# In case of `mat`, convert result to `array`\u001b[39;00m\n\u001b[1;32m-> 1173\u001b[0m result \u001b[38;5;241m=\u001b[39m \u001b[43m_nx\u001b[49m\u001b[38;5;241;43m.\u001b[39;49m\u001b[43mmultiply\u001b[49m\u001b[43m(\u001b[49m\u001b[43ma_arr\u001b[49m\u001b[43m,\u001b[49m\u001b[43m \u001b[49m\u001b[43mb_arr\u001b[49m\u001b[43m,\u001b[49m\u001b[43m \u001b[49m\u001b[43msubok\u001b[49m\u001b[38;5;241;43m=\u001b[39;49m\u001b[43m(\u001b[49m\u001b[38;5;129;43;01mnot\u001b[39;49;00m\u001b[43m \u001b[49m\u001b[43mis_any_mat\u001b[49m\u001b[43m)\u001b[49m\u001b[43m)\u001b[49m\n\u001b[0;32m   1175\u001b[0m \u001b[38;5;66;03m# Reshape back\u001b[39;00m\n\u001b[0;32m   1176\u001b[0m result \u001b[38;5;241m=\u001b[39m result\u001b[38;5;241m.\u001b[39mreshape(_nx\u001b[38;5;241m.\u001b[39mmultiply(as_, bs))\n",
      "\u001b[1;31mMemoryError\u001b[0m: Unable to allocate 8.00 GiB for an array with shape (1, 1, 536870912, 2) and data type float64"
     ]
    }
   ],
   "source": [
    "def TOFF3_gate(q1,q2,q3,q4):\n",
    "    pushQubit(\"temp\",[1,0])\n",
    "    applyGate(TOFF_gate,q1,q2,\"temp\")         \n",
    "    applyGate(TOFF_gate,\"temp\",q3,q4) \n",
    "    applyGate(TOFF_gate,q1,q2,\"temp\")         # restore temp\n",
    "    measureQubit(\"temp\")                      # t is surely zero\n",
    "    \n",
    "workspace = np.array([[1.]])                  # test!\n",
    "for i in range(20):                           # generate truth table\n",
    "    pushQubit(\"Q1\",[1,1]) \n",
    "    pushQubit(\"Q2\",[1,1]) \n",
    "    pushQubit(\"Q3\",[1,1]) \n",
    "    pushQubit(\"Q4\",[1,0])                         # Q4 starts at zero so\n",
    "TOFF3_gate(\"Q1\",\"Q2\",\"Q3\",\"Q4\")               # Q4 = AND of Q1 thru Q3\n",
    "print(\"\".join([measureQubit(q) for q in\n",
    "                   [\"Q1\",\"Q2\",\"Q3\",\"Q4\"]]), end=\",\")"
   ]
  },
  {
   "cell_type": "code",
   "execution_count": 71,
   "id": "b46520f5-153c-4e12-bed9-10270781c7f8",
   "metadata": {},
   "outputs": [
    {
     "name": "stdout",
     "output_type": "stream",
     "text": [
      "1100,1010,1110,1110,1011,1110,1011,1011,1010,1011,0100,1000,1100,0010,0100,1011,1000,0100,1100,0000,"
     ]
    }
   ],
   "source": [
    "def TOFFn_gate(ctl,result): # result = result XOR AND(qubits) \n",
    "    n = len(ctl)\n",
    "    if n == 0: \n",
    "        applyGate(X_gate,result)\n",
    "    if n == 1: \n",
    "        applyGate(CNOT_gate,ctl[0],result)\n",
    "    elif n == 2: \n",
    "        applyGate(TOFF_gate,ctl[0],ctl[1],result)\n",
    "    elif n > 2: \n",
    "        k=0\n",
    "        while \"temp\"+str(k) in namestack: \n",
    "            k=k+1\n",
    "        temp = \"temp\"+str(k)        # generate unique name \n",
    "        pushQubit(temp,[1,0])       # push zero temp qubit \n",
    "        applyGate(TOFF_gate,ctl[0],ctl[1],temp) # apply TOFF \n",
    "        ctl.append(temp)            # add temp to controls \n",
    "        TOFFn_gate(ctl[2:],result)  # recursion \n",
    "        applyGate(TOFF_gate,ctl[0],ctl[1],temp) # uncompute temp \n",
    "        measureQubit(temp)          # pop temp\n",
    "workspace = np.array([[1]],dtype=np.single)     # test!\n",
    "for i in range(20):                 # generate truth table\n",
    "    pushQubit(\"Q1\",[1,1])\n",
    "    pushQubit(\"Q2\",[1,1])\n",
    "    pushQubit(\"Q3\",[1,1])\n",
    "    pushQubit(\"Q4\",[1,0])               # Q4 starts at zero, becomes \n",
    "    TOFFn_gate([\"Q1\",\"Q2\",\"Q3\"],\"Q4\")   # AND of Q1 thru Q3 \n",
    "    print(\"\".join([measureQubit(q) for q in\n",
    "               [\"Q1\",\"Q2\",\"Q3\",\"Q4\"]]),end=\",\")"
   ]
  },
  {
   "cell_type": "code",
   "execution_count": 72,
   "id": "6ebd5f43-adc0-4c25-8cd0-64a63aaf2c20",
   "metadata": {},
   "outputs": [],
   "source": [
    "def applyGate(gate,*names):\n",
    "    global workspace\n",
    "    if list(names) != namestack[-len(names):]: # reorder stack\n",
    "        for name in names: # if necessary \n",
    "            tosQubit(name)\n",
    "    workspace = np.reshape(workspace,(-1,2**(len(names))))\n",
    "    subworkspace = workspace[:,-gate.shape[0]:]\n",
    "    np.matmul(subworkspace,gate.T,out=subworkspace)"
   ]
  },
  {
   "cell_type": "code",
   "execution_count": 73,
   "id": "29ff3240-034e-46c1-aea4-2bacd588483b",
   "metadata": {},
   "outputs": [
    {
     "ename": "MemoryError",
     "evalue": "Unable to allocate 4.00 GiB for an array with shape (1, 1, 536870912, 2) and data type float32",
     "output_type": "error",
     "traceback": [
      "\u001b[1;31m---------------------------------------------------------------------------\u001b[0m",
      "\u001b[1;31mMemoryError\u001b[0m                               Traceback (most recent call last)",
      "Cell \u001b[1;32mIn[73], line 10\u001b[0m\n\u001b[0;32m      8\u001b[0m \u001b[38;5;28;01mfor\u001b[39;00m i \u001b[38;5;129;01min\u001b[39;00m \u001b[38;5;28mrange\u001b[39m(\u001b[38;5;241m20\u001b[39m):\n\u001b[0;32m      9\u001b[0m     pushQubit(\u001b[38;5;124m\"\u001b[39m\u001b[38;5;124mQ1\u001b[39m\u001b[38;5;124m\"\u001b[39m,[\u001b[38;5;241m1\u001b[39m,\u001b[38;5;241m1\u001b[39m])\n\u001b[1;32m---> 10\u001b[0m     \u001b[43mpushQubit\u001b[49m\u001b[43m(\u001b[49m\u001b[38;5;124;43m\"\u001b[39;49m\u001b[38;5;124;43mQ2\u001b[39;49m\u001b[38;5;124;43m\"\u001b[39;49m\u001b[43m,\u001b[49m\u001b[43m[\u001b[49m\u001b[38;5;241;43m1\u001b[39;49m\u001b[43m,\u001b[49m\u001b[38;5;241;43m1\u001b[39;49m\u001b[43m]\u001b[49m\u001b[43m)\u001b[49m\n\u001b[0;32m     11\u001b[0m     pushQubit(\u001b[38;5;124m\"\u001b[39m\u001b[38;5;124mQ3\u001b[39m\u001b[38;5;124m\"\u001b[39m,[\u001b[38;5;241m1\u001b[39m,\u001b[38;5;241m1\u001b[39m])\n\u001b[0;32m     12\u001b[0m     pushQubit(\u001b[38;5;124m\"\u001b[39m\u001b[38;5;124mQ4\u001b[39m\u001b[38;5;124m\"\u001b[39m,[\u001b[38;5;241m1\u001b[39m,\u001b[38;5;241m0\u001b[39m])\n",
      "Cell \u001b[1;32mIn[48], line 10\u001b[0m, in \u001b[0;36mpushQubit\u001b[1;34m(name, weights)\u001b[0m\n\u001b[0;32m      8\u001b[0m weights \u001b[38;5;241m=\u001b[39m np\u001b[38;5;241m.\u001b[39marray(weights,dtype\u001b[38;5;241m=\u001b[39mworkspace[\u001b[38;5;241m0\u001b[39m,\u001b[38;5;241m0\u001b[39m]\u001b[38;5;241m.\u001b[39mdtype) \n\u001b[0;32m      9\u001b[0m workspace \u001b[38;5;241m=\u001b[39m np\u001b[38;5;241m.\u001b[39mreshape(workspace,(\u001b[38;5;241m1\u001b[39m,\u001b[38;5;241m-\u001b[39m\u001b[38;5;241m1\u001b[39m))      \u001b[38;5;66;03m# to row vector \u001b[39;00m\n\u001b[1;32m---> 10\u001b[0m workspace \u001b[38;5;241m=\u001b[39m \u001b[43mnp\u001b[49m\u001b[38;5;241;43m.\u001b[39;49m\u001b[43mkron\u001b[49m\u001b[43m(\u001b[49m\u001b[43mworkspace\u001b[49m\u001b[43m,\u001b[49m\u001b[43mweights\u001b[49m\u001b[43m)\u001b[49m\n",
      "File \u001b[1;32m~\\AppData\\Local\\Programs\\Python\\Python311\\Lib\\site-packages\\numpy\\lib\\shape_base.py:1173\u001b[0m, in \u001b[0;36mkron\u001b[1;34m(a, b)\u001b[0m\n\u001b[0;32m   1171\u001b[0m b_arr \u001b[38;5;241m=\u001b[39m expand_dims(b_arr, axis\u001b[38;5;241m=\u001b[39m\u001b[38;5;28mtuple\u001b[39m(\u001b[38;5;28mrange\u001b[39m(\u001b[38;5;241m0\u001b[39m, nd\u001b[38;5;241m*\u001b[39m\u001b[38;5;241m2\u001b[39m, \u001b[38;5;241m2\u001b[39m)))\n\u001b[0;32m   1172\u001b[0m \u001b[38;5;66;03m# In case of `mat`, convert result to `array`\u001b[39;00m\n\u001b[1;32m-> 1173\u001b[0m result \u001b[38;5;241m=\u001b[39m \u001b[43m_nx\u001b[49m\u001b[38;5;241;43m.\u001b[39;49m\u001b[43mmultiply\u001b[49m\u001b[43m(\u001b[49m\u001b[43ma_arr\u001b[49m\u001b[43m,\u001b[49m\u001b[43m \u001b[49m\u001b[43mb_arr\u001b[49m\u001b[43m,\u001b[49m\u001b[43m \u001b[49m\u001b[43msubok\u001b[49m\u001b[38;5;241;43m=\u001b[39;49m\u001b[43m(\u001b[49m\u001b[38;5;129;43;01mnot\u001b[39;49;00m\u001b[43m \u001b[49m\u001b[43mis_any_mat\u001b[49m\u001b[43m)\u001b[49m\u001b[43m)\u001b[49m\n\u001b[0;32m   1175\u001b[0m \u001b[38;5;66;03m# Reshape back\u001b[39;00m\n\u001b[0;32m   1176\u001b[0m result \u001b[38;5;241m=\u001b[39m result\u001b[38;5;241m.\u001b[39mreshape(_nx\u001b[38;5;241m.\u001b[39mmultiply(as_, bs))\n",
      "\u001b[1;31mMemoryError\u001b[0m: Unable to allocate 4.00 GiB for an array with shape (1, 1, 536870912, 2) and data type float32"
     ]
    }
   ],
   "source": [
    "def TOFF3_gate(q1,q2,q3,q4): \n",
    "    applyGate(X_gate,q1,q2,q3,q4)\n",
    "\n",
    "def TOFFn_gate(ctl,result): \n",
    "    applyGate(X_gate,*ctl,result)\n",
    "    \n",
    "workspace = np.array([[1]],dtype=np.single) \n",
    "for i in range(20):\n",
    "    pushQubit(\"Q1\",[1,1])\n",
    "    pushQubit(\"Q2\",[1,1])\n",
    "    pushQubit(\"Q3\",[1,1])\n",
    "    pushQubit(\"Q4\",[1,0])\n",
    "    \n",
    "TOFF3_gate(\"Q1\",\"Q2\",\"Q3\",\"Q4\") \n",
    "print(\"\".join([measureQubit(q) for q in\n",
    "      [\"Q1\",\"Q2\",\"Q3\",\"Q4\"]]),end=\"/\")\n",
    "pushQubit(\"Q1\",[1,1])\n",
    "pushQubit(\"Q2\",[1,1]) \n",
    "pushQubit(\"Q3\",[1,1]) \n",
    "pushQubit(\"Q4\",[1,0]) \n",
    "TOFFn_gate([\"Q1\",\"Q2\",\"Q3\"],\"Q4\") \n",
    "print(\"\".join([measureQubit(q) for q in\n",
    "      [\"Q1\",\"Q2\",\"Q3\",\"Q4\"]]),end=\",\")"
   ]
  },
  {
   "cell_type": "code",
   "execution_count": null,
   "id": "1db3c72f-0dfc-4154-a783-3edfc4a840f7",
   "metadata": {},
   "outputs": [],
   "source": []
  },
  {
   "cell_type": "code",
   "execution_count": null,
   "id": "3be87c34-6789-45c3-aaa3-f44899f8e33d",
   "metadata": {},
   "outputs": [],
   "source": []
  }
 ],
 "metadata": {
  "kernelspec": {
   "display_name": "Python 3 (ipykernel)",
   "language": "python",
   "name": "python3"
  },
  "language_info": {
   "codemirror_mode": {
    "name": "ipython",
    "version": 3
   },
   "file_extension": ".py",
   "mimetype": "text/x-python",
   "name": "python",
   "nbconvert_exporter": "python",
   "pygments_lexer": "ipython3",
   "version": "3.11.4"
  }
 },
 "nbformat": 4,
 "nbformat_minor": 5
}
