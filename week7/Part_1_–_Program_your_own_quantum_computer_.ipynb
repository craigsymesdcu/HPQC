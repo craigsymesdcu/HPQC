{
  "cells": [
    {
      "cell_type": "markdown",
      "id": "2ed5f4b6-625d-47c6-9372-aaca66b02b86",
      "metadata": {
        "id": "2ed5f4b6-625d-47c6-9372-aaca66b02b86"
      },
      "source": [
        "### Instruction 1: Push a Qubit onto the Stack\n"
      ]
    },
    {
      "cell_type": "code",
      "execution_count": 3,
      "id": "fb3cbabd-4693-46e3-8d1a-3f743b6e302e",
      "metadata": {
        "id": "fb3cbabd-4693-46e3-8d1a-3f743b6e302e"
      },
      "outputs": [],
      "source": [
        "import numpy as np\n",
        "\n",
        "def pushQubit(weights):\n",
        "    global workspace\n",
        "    workspace = np.reshape(workspace,(1,-1))\n",
        "    workspace = np.kron(workspace,weights)"
      ]
    },
    {
      "cell_type": "code",
      "execution_count": 4,
      "id": "0311bced-62a1-41bc-befe-b59d1bbeb402",
      "metadata": {
        "colab": {
          "base_uri": "https://localhost:8080/"
        },
        "id": "0311bced-62a1-41bc-befe-b59d1bbeb402",
        "outputId": "9b3dda2e-9391-4398-9254-03c68b86aacd"
      },
      "outputs": [
        {
          "output_type": "stream",
          "name": "stdout",
          "text": [
            "[[1. 0.]]\n",
            "[[0.6 0.8 0.  0. ]]\n"
          ]
        }
      ],
      "source": [
        "workspace = np.array([[1.]])       # create empty qubit stack pushQubit([1,0])\n",
        "pushQubit([1,0])\n",
        "print(workspace)\n",
        "pushQubit([3/5,4/5])               # push a 2nd qubit print(workspace)\n",
        "print(workspace)"
      ]
    },
    {
      "cell_type": "markdown",
      "id": "7ee3a353-61e4-4328-94d3-9dee43c01735",
      "metadata": {
        "id": "7ee3a353-61e4-4328-94d3-9dee43c01735"
      },
      "source": [
        "### Instruction 2: Perform a Gate Operation"
      ]
    },
    {
      "cell_type": "code",
      "execution_count": 5,
      "id": "fbfaf076-f111-40e8-8bc1-a0989ff5c0ff",
      "metadata": {
        "id": "fbfaf076-f111-40e8-8bc1-a0989ff5c0ff"
      },
      "outputs": [],
      "source": [
        "def applyGate(gate):\n",
        "    global workspace\n",
        "    workspace = np.reshape(workspace,(-1,gate.shape[0]))\n",
        "    np.matmul(workspace,gate.T,out=workspace)"
      ]
    },
    {
      "cell_type": "code",
      "execution_count": 6,
      "id": "7440dbda-706b-456e-8cc4-544cc80592a3",
      "metadata": {
        "id": "7440dbda-706b-456e-8cc4-544cc80592a3"
      },
      "outputs": [],
      "source": [
        "X_gate = np.array([[0, 1],   # Pauli X gate\n",
        "                  [1, 0]])   # = NOT gate"
      ]
    },
    {
      "cell_type": "code",
      "execution_count": 7,
      "id": "0e23022b-721a-45fb-b0d4-d0edab375beb",
      "metadata": {
        "colab": {
          "base_uri": "https://localhost:8080/"
        },
        "id": "0e23022b-721a-45fb-b0d4-d0edab375beb",
        "outputId": "59b5c612-3dee-44e4-8684-59517bf0ae22"
      },
      "outputs": [
        {
          "output_type": "execute_result",
          "data": {
            "text/plain": [
              "array([0, 1])"
            ]
          },
          "metadata": {},
          "execution_count": 7
        }
      ],
      "source": [
        " np.matmul(X_gate,[1,0])"
      ]
    },
    {
      "cell_type": "code",
      "execution_count": 8,
      "id": "d5694bea-bb6f-4ad8-a714-8bb46fc18d6b",
      "metadata": {
        "colab": {
          "base_uri": "https://localhost:8080/"
        },
        "id": "d5694bea-bb6f-4ad8-a714-8bb46fc18d6b",
        "outputId": "b8528811-38e0-441a-e7ef-cacd00453e56"
      },
      "outputs": [
        {
          "output_type": "stream",
          "name": "stdout",
          "text": [
            "input [[1. 0.]]\n",
            "output [[0. 1.]]\n"
          ]
        }
      ],
      "source": [
        "workspace = np.array([[1.]])       # reset workspace\n",
        "pushQubit([1,0])\n",
        "print(\"input\",workspace)\n",
        "applyGate(X_gate)                  # = NOT\n",
        "print(\"output\",workspace)"
      ]
    },
    {
      "cell_type": "code",
      "execution_count": 9,
      "id": "d4569c54-4c63-4d1d-b304-2b7f942ce9fe",
      "metadata": {
        "id": "d4569c54-4c63-4d1d-b304-2b7f942ce9fe"
      },
      "outputs": [],
      "source": [
        "H_gate = np.array([[1, 1],                         # Hadamard gate\n",
        "                  [1,-1]]) * np.sqrt(1/2)"
      ]
    },
    {
      "cell_type": "code",
      "execution_count": 10,
      "id": "08d26821-2aa3-4ffc-93f9-c61b5593dbfc",
      "metadata": {
        "colab": {
          "base_uri": "https://localhost:8080/"
        },
        "id": "08d26821-2aa3-4ffc-93f9-c61b5593dbfc",
        "outputId": "b4c69b0f-aa83-4e5d-fc7d-c99f13cdcf90"
      },
      "outputs": [
        {
          "output_type": "stream",
          "name": "stdout",
          "text": [
            "input [[1. 0.]]\n",
            "output [[0.70710678 0.70710678]]\n"
          ]
        }
      ],
      "source": [
        "workspace = np.array([[1.]])\n",
        "pushQubit([1,0])\n",
        "print(\"input\",workspace)\n",
        "applyGate(H_gate)\n",
        "print(\"output\",workspace)"
      ]
    },
    {
      "cell_type": "code",
      "execution_count": 11,
      "id": "476c80c6-12f6-44c3-bf1f-1238f341f1e5",
      "metadata": {
        "colab": {
          "base_uri": "https://localhost:8080/"
        },
        "id": "476c80c6-12f6-44c3-bf1f-1238f341f1e5",
        "outputId": "d8af496c-5545-4a7a-e93e-e88572e03783"
      },
      "outputs": [
        {
          "output_type": "stream",
          "name": "stdout",
          "text": [
            "input [[0.6+0.j 0.8+0.j]]\n",
            "output [[0.6       +0.j         0.56568542+0.56568542j]]\n"
          ]
        }
      ],
      "source": [
        "T_gate = np.array([[1,                0],\n",
        "                   [0,np.exp(np.pi/-4j)]])\n",
        "workspace = np.array([[1.+0j]])       # set complex workspace pushQubit([.6,.8])\n",
        "# Initialize with single qubit state [0.6, 0.8]\n",
        "pushQubit([0.6, 0.8])\n",
        "\n",
        "print(\"input\",workspace)\n",
        "applyGate(T_gate)\n",
        "print(\"output\",workspace)"
      ]
    },
    {
      "cell_type": "code",
      "execution_count": 12,
      "id": "34964297-3782-4f36-bb8e-6b877510e819",
      "metadata": {
        "id": "34964297-3782-4f36-bb8e-6b877510e819"
      },
      "outputs": [],
      "source": [
        "SWAP_gate = np.array([[1, 0, 0, 0],\n",
        "                      [0, 0, 1, 0],\n",
        "                      [0, 1, 0, 0],\n",
        "                      [0, 0, 0, 1]])"
      ]
    },
    {
      "cell_type": "code",
      "execution_count": 13,
      "id": "25ea717d-00fd-48f9-a3b2-a22c07e37f6f",
      "metadata": {
        "colab": {
          "base_uri": "https://localhost:8080/"
        },
        "id": "25ea717d-00fd-48f9-a3b2-a22c07e37f6f",
        "outputId": "d4b4494f-c707-4e43-f5f6-e25ffe0d3f49"
      },
      "outputs": [
        {
          "output_type": "stream",
          "name": "stdout",
          "text": [
            "[[0.6 0.8 0.  0. ]]\n",
            "[[0.6 0.  0.8 0. ]]\n"
          ]
        }
      ],
      "source": [
        "workspace = np.array([[1.]])\n",
        "pushQubit([1,0])                          # qubit 1\n",
        "pushQubit([0.6,0.8])                      # qubit 2\n",
        "print(workspace.real)\n",
        "applyGate(SWAP_gate)\n",
        "print(workspace.real)"
      ]
    },
    {
      "cell_type": "code",
      "execution_count": 14,
      "id": "5e7a3aa1-c713-4e45-8c8b-dda676b49e3c",
      "metadata": {
        "id": "5e7a3aa1-c713-4e45-8c8b-dda676b49e3c"
      },
      "outputs": [],
      "source": [
        "X_gate = np.array([[0, 1],                      # Pauli X gate\n",
        "                   [1, 0]])                     # = NOT gate\n",
        "\n",
        "Y_gate = np.array([[ 0,-1j],                    # Pauli Y gate\n",
        "                   [1j,  0]])                   # = SHZHZS\n",
        "\n",
        "Z_gate = np.array([[1, 0],                      # Pauli Z gate\n",
        "                   [0,-1]])                     # = P(pi) = S^2\n",
        "                                                # = HXH\n",
        "\n",
        "H_gate = np.array([[1, 1],                      # Hadamard gate\n",
        "                   [1,-1]]) * np.sqrt(1/2)\n",
        "\n",
        "S_gate = np.array([[1, 0],                      # Phase gate\n",
        "                   [0,1j]])                     # = P(pi/2) = T^2\n",
        "\n",
        "T_gate = np.array([[1,                0],       # = P(pi/4)\n",
        "                   [0,np.exp(np.pi/-4j)]])\n",
        "\n",
        "Tinv_gate = np.array([[1, 0],                   # = P(-pi/4)\n",
        "                      [0,np.exp(np.pi/4j)]])    # = T^-1\n",
        "\n",
        "def P_gate(phi):                                # Phase shift gate\n",
        "    return np.array([[1,             0],\n",
        "                     [0,np.exp(phi*1j)]])\n",
        "\n",
        "def Rx_gate(theta):                             # Y rotation gate\n",
        "    return np.array([[np.cos(theta/2),-1j*np.sin(theta/2)],\n",
        "                     [-1j*np.sin(theta/2),np.cos(theta/2)]])\n",
        "\n",
        "def Ry_gate(theta):                             # Y rotation gate return\n",
        "    np.array([[np.cos(theta/2),-np.sin(theta/2)],\n",
        "              [np.sin(theta/2), np.cos(theta/2)]])\n",
        "\n",
        "def Rz_gate(theta):                             # Z rotation gate\n",
        "    return np.array([[np.exp(-1j*theta/2),                0],\n",
        "                     [                  0,np.exp(1j*theta/2)]])\n",
        "\n",
        "CNOT_gate = np.array([[1, 0, 0, 0],             # Ctled NOT gate\n",
        "                      [0, 1, 0, 0],             #=XORgate\n",
        "                      [0, 0, 0, 1],\n",
        "                      [0, 0, 1, 0]])\n",
        "\n",
        "CZ_gate = np.array([[1, 0, 0, 0],               # Ctled Z gate\n",
        "                    [0, 1, 0, 0],\n",
        "                    [0, 0, 1, 0],\n",
        "                    [0, 0, 0,-1]])\n",
        "\n",
        "SWAP_gate = np.array([[1, 0, 0, 0],             # Swap gate\n",
        "                      [0, 0, 1, 0],\n",
        "                      [0, 1, 0, 0],\n",
        "                      [0, 0, 0, 1]])\n",
        "\n",
        "TOFF_gate = np.array([[1, 0, 0, 0, 0, 0, 0, 0], # Toffoli gate\n",
        "                     [0, 1, 0, 0, 0, 0, 0, 0],\n",
        "                     [0, 0, 1, 0, 0, 0, 0, 0],\n",
        "                     [0, 0, 0, 1, 0, 0, 0, 0],\n",
        "                     [0, 0, 0, 0, 1, 0, 0, 0],\n",
        "                     [0, 0, 0, 0, 0, 1, 0, 0],\n",
        "                     [0, 0, 0, 0, 0, 0, 0, 1],\n",
        "                     [0, 0, 0, 0, 0, 0, 1, 0]])"
      ]
    },
    {
      "cell_type": "markdown",
      "id": "93af4e22-63d5-40df-b263-01fb42a2e86e",
      "metadata": {
        "id": "93af4e22-63d5-40df-b263-01fb42a2e86e"
      },
      "source": [
        "## Instruction 3: Move a Qubit to the Top of the Stack"
      ]
    },
    {
      "cell_type": "code",
      "execution_count": 15,
      "id": "f6f6a238-5172-4531-a2e2-76dc6247c7f9",
      "metadata": {
        "id": "f6f6a238-5172-4531-a2e2-76dc6247c7f9"
      },
      "outputs": [],
      "source": [
        "def tosQubit(k):\n",
        "    global workspace\n",
        "    if k > 1:                                               # if non-trivial\n",
        "        workspace = np.reshape(workspace,(-1,2,2**(k-1)))\n",
        "        workspace = np.swapaxes(workspace,-2,-1)"
      ]
    },
    {
      "cell_type": "code",
      "execution_count": 16,
      "id": "97dc3560-1e7e-40d3-8a2a-9930656becb9",
      "metadata": {
        "colab": {
          "base_uri": "https://localhost:8080/"
        },
        "id": "97dc3560-1e7e-40d3-8a2a-9930656becb9",
        "outputId": "ee0f19ec-50f6-4e0d-fde9-3575149ef23c"
      },
      "outputs": [
        {
          "output_type": "stream",
          "name": "stdout",
          "text": [
            "[[0.6 0.8 0.  0. ]]\n",
            "[[[0.6 0. ]\n",
            "  [0.8 0. ]]]\n"
          ]
        }
      ],
      "source": [
        "workspace = np.array([[1.]])\n",
        "pushQubit([1,0])\n",
        "pushQubit([0.6,0.8])\n",
        "print(workspace.real)\n",
        "tosQubit(2)\n",
        "print(workspace.real)"
      ]
    },
    {
      "cell_type": "code",
      "execution_count": 17,
      "id": "f3790e55-7444-47be-b09f-e1b06c8d3946",
      "metadata": {
        "colab": {
          "base_uri": "https://localhost:8080/"
        },
        "id": "f3790e55-7444-47be-b09f-e1b06c8d3946",
        "outputId": "02484463-8cd4-4d30-f3ed-377ff59067c8"
      },
      "outputs": [
        {
          "output_type": "stream",
          "name": "stdout",
          "text": [
            "[[0.6 0.  0.8 0. ]]\n"
          ]
        }
      ],
      "source": [
        "print(np.reshape(workspace.real,(1,-1)))"
      ]
    },
    {
      "cell_type": "markdown",
      "id": "b1f12a1b-7742-42e3-9eee-80169c9dc1a3",
      "metadata": {
        "id": "b1f12a1b-7742-42e3-9eee-80169c9dc1a3"
      },
      "source": [
        "### Instruction 4: Measure a Qubit"
      ]
    },
    {
      "cell_type": "code",
      "execution_count": 18,
      "id": "e52fd804-e27f-4210-bf20-4c45bce2e6b6",
      "metadata": {
        "id": "e52fd804-e27f-4210-bf20-4c45bce2e6b6"
      },
      "outputs": [],
      "source": [
        "def probQubit():\n",
        "    global workspace\n",
        "    workspace = np.reshape(workspace,(-1,2))\n",
        "    return np.linalg.norm(workspace,axis=0)**2\n",
        "def measureQubit():\n",
        "    global workspace\n",
        "    prob = probQubit()\n",
        "    measurement = np.random.choice(2,p=prob)         # select 0 or 1\n",
        "    workspace = (workspace[:,[measurement]]/\n",
        "    np.sqrt(prob[measurement]))\n",
        "    return str(measurement)"
      ]
    },
    {
      "cell_type": "code",
      "execution_count": 19,
      "id": "2dcd6064-0b44-4ba3-8555-b734987a1fcb",
      "metadata": {
        "colab": {
          "base_uri": "https://localhost:8080/"
        },
        "id": "2dcd6064-0b44-4ba3-8555-b734987a1fcb",
        "outputId": "548eebac-2297-47a6-ae27-b02efea3fce4"
      },
      "outputs": [
        {
          "output_type": "stream",
          "name": "stdout",
          "text": [
            "111111011100010111111111111111"
          ]
        }
      ],
      "source": [
        "workspace = np.array([[1. ]])\n",
        "for n in range(30):\n",
        "    pushQubit([0.6,0.8])\n",
        "    print(measureQubit(), end=\"\")"
      ]
    },
    {
      "cell_type": "code",
      "execution_count": 20,
      "id": "6d8d04ae-d524-44fb-bd2c-c76ec12463b4",
      "metadata": {
        "colab": {
          "base_uri": "https://localhost:8080/"
        },
        "id": "6d8d04ae-d524-44fb-bd2c-c76ec12463b4",
        "outputId": "9927c742-3c99-44d1-96de-27a24ca6129d"
      },
      "outputs": [
        {
          "output_type": "stream",
          "name": "stdout",
          "text": [
            "010,100,010,100,100,000,010,100,100,010,100,010,100,100,111,010,"
          ]
        }
      ],
      "source": [
        "workspace = np.array([[1.]])\n",
        "for i in range(16):\n",
        "    pushQubit([1,0])                      # push a zero qubit\n",
        "    applyGate(H_gate)                     # set equal 0 and 1 probability\n",
        "    pushQubit([1,0])                      # push a 2nd zero qubit\n",
        "    applyGate(H_gate)                     # set equal 0 and 1 probability\n",
        "    pushQubit([1,0])                      # push a dummy zero qubit\n",
        "    applyGate(TOFF_gate)                  # compute Q3 = Q1 AND Q2\n",
        "    q3 = measureQubit()                   # pop qubit 3\n",
        "    q2 = measureQubit()                   # pop qubit 2\n",
        "    q1 = measureQubit()                   # pop qubit 1\n",
        "    print(q1+q2+q3,end=\",\")\n"
      ]
    },
    {
      "cell_type": "markdown",
      "id": "0cf55a5a-923d-49ab-9ad9-809f5756c4ea",
      "metadata": {
        "id": "0cf55a5a-923d-49ab-9ad9-809f5756c4ea"
      },
      "source": [
        "### Some Code Improvements"
      ]
    },
    {
      "cell_type": "code",
      "execution_count": 21,
      "id": "d4493c2a-f0f9-4583-a3e5-addbbc914de5",
      "metadata": {
        "id": "d4493c2a-f0f9-4583-a3e5-addbbc914de5"
      },
      "outputs": [],
      "source": [
        "\n",
        "def pushQubit(name,weights):\n",
        "    global workspace\n",
        "    global namestack\n",
        "    if workspace.shape == (1,1):                  # if workspace empty\n",
        "        namestack = []                            # then reset\n",
        "    namestack.append(name)                        # push name\n",
        "    weights = weights/np.linalg.norm(weights)     # normalize\n",
        "    weights = np.array(weights,dtype=workspace[0,0].dtype)\n",
        "    workspace = np.reshape(workspace,(1,-1))      # to row vector\n",
        "    workspace = np.kron(workspace,weights)\n"
      ]
    },
    {
      "cell_type": "code",
      "execution_count": 22,
      "id": "142b25db-9989-4b42-a757-a870590594f6",
      "metadata": {
        "colab": {
          "base_uri": "https://localhost:8080/"
        },
        "id": "142b25db-9989-4b42-a757-a870590594f6",
        "outputId": "cada433e-3aa0-4dde-9696-ee0d13e3747f"
      },
      "outputs": [
        {
          "output_type": "stream",
          "name": "stdout",
          "text": [
            "[[0.70710678 0.70710678]]\n",
            "['Q1']\n",
            "['Q1', 'Q2']\n",
            "[[0.         0.70710678 0.         0.70710678]]\n"
          ]
        }
      ],
      "source": [
        "workspace = np.array([[1.]])        # create empty qubit stack\n",
        "pushQubit(\"Q1\",[1,1])               # push a qubit\n",
        "print(np.reshape(workspace,(1,-1))) # print workspace as vector print(namestack)\n",
        "print(namestack)\n",
        "pushQubit(\"Q2\",[0,1])               # push a 2nd qubit\n",
        "print(namestack)\n",
        "print(np.reshape(workspace,(1,-1))) # print workspace as vector print(namestack)"
      ]
    },
    {
      "cell_type": "code",
      "execution_count": 23,
      "id": "d9244e01-837f-483f-9761-588128345355",
      "metadata": {
        "id": "d9244e01-837f-483f-9761-588128345355"
      },
      "outputs": [],
      "source": [
        "def tosQubit(name):\n",
        "    global workspace\n",
        "    global namestack\n",
        "    k = len(namestack)-namestack.index(name)    # qubit pos\n",
        "    if k > 1:                                   # if non-trivial\n",
        "        namestack.append(namestack.pop(-k))         # rotate name stack\n",
        "    workspace = np.reshape(workspace,(-1,2,2**(k-1)))\n",
        "    workspace = np.swapaxes(workspace,-2,-1)"
      ]
    },
    {
      "cell_type": "code",
      "execution_count": 24,
      "id": "dc489e77-588a-48b2-9d77-3fc515d1b162",
      "metadata": {
        "colab": {
          "base_uri": "https://localhost:8080/"
        },
        "id": "dc489e77-588a-48b2-9d77-3fc515d1b162",
        "outputId": "91c58c73-36d6-43b8-edde-4176174bf12b"
      },
      "outputs": [
        {
          "output_type": "stream",
          "name": "stdout",
          "text": [
            "[[0.         0.70710678 0.         0.70710678]]\n",
            "['Q1', 'Q2']\n",
            "[[0.         0.         0.70710678 0.70710678]]\n"
          ]
        }
      ],
      "source": [
        "print(np.reshape(workspace,(1,-1)))  # print workspace as vector\n",
        "print(namestack)\n",
        "tosQubit(\"Q1\")                       # swap qubits\n",
        "print(np.reshape(workspace,(1,-1)))  # print workspace as vector print(namestack)"
      ]
    },
    {
      "cell_type": "code",
      "execution_count": 25,
      "id": "9e66913b-de34-46a2-9ddf-fc647c4565c8",
      "metadata": {
        "id": "9e66913b-de34-46a2-9ddf-fc647c4565c8"
      },
      "outputs": [],
      "source": [
        "def applyGate(gate,*names):\n",
        "    global workspace\n",
        "    for name in names:                   # move qubits to TOS\n",
        "            tosQubit(name)\n",
        "            workspace = np.reshape(workspace,(-1,gate.shape[0]))\n",
        "            np.matmul(workspace,gate.T,out=workspace)"
      ]
    },
    {
      "cell_type": "code",
      "execution_count": 26,
      "id": "5f6cfb2c-ec2b-4011-9998-8a4364893964",
      "metadata": {
        "colab": {
          "base_uri": "https://localhost:8080/"
        },
        "id": "5f6cfb2c-ec2b-4011-9998-8a4364893964",
        "outputId": "f124f00a-4ed4-420e-d62c-39176a87348b"
      },
      "outputs": [
        {
          "output_type": "stream",
          "name": "stdout",
          "text": [
            "[[0.         0.         0.70710678 0.70710678]]\n",
            "['Q2', 'Q1']\n",
            "[[ 0.5 -0.5  0.5 -0.5]]\n",
            "['Q1', 'Q2']\n"
          ]
        }
      ],
      "source": [
        "print(np.reshape(workspace,(1,-1)))       # print workspace as vector\n",
        "print(namestack)\n",
        "applyGate(H_gate,\"Q2\")                    # H gate on qubit 2\n",
        "print(np.reshape(workspace,(1,-1)))       # turns a 0 qubit to 1\n",
        "print(namestack)                          # with 50% probability"
      ]
    },
    {
      "cell_type": "code",
      "execution_count": 27,
      "id": "80fe07d9-3c46-461b-91a5-84c6f943e3c3",
      "metadata": {
        "id": "80fe07d9-3c46-461b-91a5-84c6f943e3c3"
      },
      "outputs": [],
      "source": [
        "def probQubit(name):\n",
        "    global workspace\n",
        "    tosQubit(name)\n",
        "    workspace = np.reshape(workspace,(-1,2))\n",
        "    prob = np.linalg.norm(workspace,axis=0)**2\n",
        "    return prob/prob.sum()                 # make sure sum is one\n",
        "\n",
        "def measureQubit(name):\n",
        "    global workspace\n",
        "    global namestack\n",
        "    prob = probQubit(name)\n",
        "    measurement = np.random.choice(2,p=prob)\n",
        "    workspace = (workspace[:,[measurement]]/\n",
        "                 np.sqrt(prob[measurement]))\n",
        "    namestack.pop()\n",
        "    return str(measurement)"
      ]
    },
    {
      "cell_type": "code",
      "execution_count": 28,
      "id": "600a569a-4dbc-4bda-9d69-72d4f4cdcac3",
      "metadata": {
        "colab": {
          "base_uri": "https://localhost:8080/"
        },
        "id": "600a569a-4dbc-4bda-9d69-72d4f4cdcac3",
        "outputId": "621db635-8da3-48df-e72f-81898ca4a697"
      },
      "outputs": [
        {
          "output_type": "stream",
          "name": "stdout",
          "text": [
            "Q1 probabilities: [0.5 0.5]\n",
            "Q2 probabilities: [0.36 0.64]\n",
            "1 1\n"
          ]
        }
      ],
      "source": [
        "workspace = np.array([[1.]])\n",
        "pushQubit(\"Q1\",[1,0])\n",
        "applyGate(H_gate,\"Q1\")\n",
        "print(\"Q1 probabilities:\", probQubit(\"Q1\")) # peek Q1 prob\n",
        "pushQubit(\"Q2\",[0.6,0.8])\n",
        "print(\"Q2 probabilities:\", probQubit(\"Q2\")) # peek Q2 prob\n",
        "print(measureQubit(\"Q1\"), measureQubit(\"Q2\"))"
      ]
    },
    {
      "cell_type": "code",
      "source": [
        "from psutil import virtual_memory\n",
        "ram_gb = virtual_memory().total / 1e9\n",
        "print('Your runtime has {:.1f} gigabytes of available RAM\\n'.format(ram_gb))\n",
        "\n",
        "if ram_gb < 20:\n",
        "  print('Not using a high-RAM runtime')\n",
        "else:\n",
        "  print('You are using a high-RAM runtime!')"
      ],
      "metadata": {
        "colab": {
          "base_uri": "https://localhost:8080/"
        },
        "id": "LYS2g2n-FGOj",
        "outputId": "b86be135-82b4-4b8e-efd8-ee18bac33108"
      },
      "id": "LYS2g2n-FGOj",
      "execution_count": 29,
      "outputs": [
        {
          "output_type": "stream",
          "name": "stdout",
          "text": [
            "Your runtime has 54.8 gigabytes of available RAM\n",
            "\n",
            "You are using a high-RAM runtime!\n"
          ]
        }
      ]
    },
    {
      "cell_type": "code",
      "execution_count": null,
      "id": "0005bf2c-ed7a-4ee1-88dd-88066c60142a",
      "metadata": {
        "id": "0005bf2c-ed7a-4ee1-88dd-88066c60142a"
      },
      "outputs": [],
      "source": [
        "# RAM ERROR\n",
        "def toffEquiv_gate(q1,q2,q3):               # define Toffoli gate\n",
        "    applyGate(H_gate,q3)                    # using H, T, T*, CNOT\n",
        "    applyGate(CNOT_gate,q2,q3)\n",
        "    applyGate(Tinv_gate,q3)\n",
        "    applyGate(CNOT_gate,q1,q3)\n",
        "    applyGate(T_gate,q3)\n",
        "    applyGate(CNOT_gate,q2,q3)\n",
        "    applyGate(Tinv_gate,q3)\n",
        "    applyGate(CNOT_gate,q1,q3)\n",
        "    applyGate(T_gate,q2)\n",
        "    applyGate(T_gate,q3)\n",
        "    applyGate(H_gate,q3)\n",
        "    applyGate(CNOT_gate,q1,q2)\n",
        "    applyGate(T_gate,q1)\n",
        "    applyGate(Tinv_gate,q2)\n",
        "    applyGate(CNOT_gate,q1,q2)\n",
        "\n",
        "workspace = np.array([[1.+0j]])           # prep COMPLEX array\n",
        "for i in range(16):                       # test function\n",
        "    pushQubit(\"Q1\",[1,1])\n",
        "    pushQubit(\"Q2\",[1,1])\n",
        "    pushQubit(\"Q3\",[1,0])\n",
        "    toffEquiv_gate(\"Q1\",\"Q2\",\"Q3\")        # compute Q3 = Q1 AND Q2\n",
        "print(measureQubit(\"Q1\")+measureQubit(\"Q2\")+\n",
        "      measureQubit(\"Q3\"), end=\",\")\n",
        "# RAM ERROR"
      ]
    },
    {
      "cell_type": "code",
      "execution_count": 30,
      "id": "dc7973ec-cf0e-4c33-9bad-6221bdd0a238",
      "metadata": {
        "id": "dc7973ec-cf0e-4c33-9bad-6221bdd0a238"
      },
      "outputs": [],
      "source": [
        "def TOFF3_gate(q1,q2,q3,q4): # q4 = q4 XOR (q1 AND q2 AND q3)\n",
        "  pushQubit(\"temp\",[1,0]) # push a zero temporary qubit\n",
        "  applyGate(TOFF_gate,q1,q2,\"temp\") # t = q1 AND q2\n",
        "  applyGate(TOFF_gate,\"temp\",q3,q4) # q4 = q4\n",
        "  applyGate(CNOT_gate,q1,q2,q3) # cnot = xor\n",
        "  measureQubit(\"temp\") # pop temp qubit - PROBLEM HERE! # cnot = xor"
      ]
    },
    {
      "cell_type": "code",
      "execution_count": null,
      "id": "47966dfd-34ec-4708-a2b9-1ac14aea9e10",
      "metadata": {
        "id": "47966dfd-34ec-4708-a2b9-1ac14aea9e10"
      },
      "outputs": [],
      "source": [
        "# RAM ERROR\n",
        "def TOFF3_gate(q1,q2,q3,q4):\n",
        "    pushQubit(\"temp\",[1,0])\n",
        "    applyGate(TOFF_gate,q1,q2,\"temp\")\n",
        "    applyGate(TOFF_gate,\"temp\",q3,q4)\n",
        "    applyGate(TOFF_gate,q1,q2,\"temp\")         # restore temp\n",
        "    measureQubit(\"temp\")                      # t is surely zero\n",
        "\n",
        "workspace = np.array([[1.]])                  # test!\n",
        "for i in range(20):                           # generate truth table\n",
        "    pushQubit(\"Q1\",[1,1])\n",
        "    pushQubit(\"Q2\",[1,1])\n",
        "    pushQubit(\"Q3\",[1,1])\n",
        "    pushQubit(\"Q4\",[1,0])                         # Q4 starts at zero so\n",
        "TOFF3_gate(\"Q1\",\"Q2\",\"Q3\",\"Q4\")               # Q4 = AND of Q1 thru Q3\n",
        "print(\"\".join([measureQubit(q) for q in\n",
        "                   [\"Q1\",\"Q2\",\"Q3\",\"Q4\"]]), end=\",\")\n",
        "#RAM ERROR"
      ]
    },
    {
      "cell_type": "code",
      "execution_count": 31,
      "id": "b46520f5-153c-4e12-bed9-10270781c7f8",
      "metadata": {
        "colab": {
          "base_uri": "https://localhost:8080/"
        },
        "id": "b46520f5-153c-4e12-bed9-10270781c7f8",
        "outputId": "81d57712-89dd-49d4-932b-ac54d94c7a39"
      },
      "outputs": [
        {
          "output_type": "stream",
          "name": "stdout",
          "text": [
            "0100,0000,0010,0000,1010,0100,1011,0010,0010,1100,0100,1011,1110,1000,1011,1010,1011,0100,0010,1110,"
          ]
        }
      ],
      "source": [
        "def TOFFn_gate(ctl,result): # result = result XOR AND(qubits)\n",
        "    n = len(ctl)\n",
        "    if n == 0:\n",
        "        applyGate(X_gate,result)\n",
        "    if n == 1:\n",
        "        applyGate(CNOT_gate,ctl[0],result)\n",
        "    elif n == 2:\n",
        "        applyGate(TOFF_gate,ctl[0],ctl[1],result)\n",
        "    elif n > 2:\n",
        "        k=0\n",
        "        while \"temp\"+str(k) in namestack:\n",
        "            k=k+1\n",
        "        temp = \"temp\"+str(k)        # generate unique name\n",
        "        pushQubit(temp,[1,0])       # push zero temp qubit\n",
        "        applyGate(TOFF_gate,ctl[0],ctl[1],temp) # apply TOFF\n",
        "        ctl.append(temp)            # add temp to controls\n",
        "        TOFFn_gate(ctl[2:],result)  # recursion\n",
        "        applyGate(TOFF_gate,ctl[0],ctl[1],temp) # uncompute temp\n",
        "        measureQubit(temp)          # pop temp\n",
        "workspace = np.array([[1]],dtype=np.single)     # test!\n",
        "for i in range(20):                 # generate truth table\n",
        "    pushQubit(\"Q1\",[1,1])\n",
        "    pushQubit(\"Q2\",[1,1])\n",
        "    pushQubit(\"Q3\",[1,1])\n",
        "    pushQubit(\"Q4\",[1,0])               # Q4 starts at zero, becomes\n",
        "    TOFFn_gate([\"Q1\",\"Q2\",\"Q3\"],\"Q4\")   # AND of Q1 thru Q3\n",
        "    print(\"\".join([measureQubit(q) for q in\n",
        "               [\"Q1\",\"Q2\",\"Q3\",\"Q4\"]]),end=\",\")"
      ]
    },
    {
      "cell_type": "code",
      "execution_count": 32,
      "id": "6ebd5f43-adc0-4c25-8cd0-64a63aaf2c20",
      "metadata": {
        "id": "6ebd5f43-adc0-4c25-8cd0-64a63aaf2c20"
      },
      "outputs": [],
      "source": [
        "def applyGate(gate,*names):\n",
        "    global workspace\n",
        "    if list(names) != namestack[-len(names):]: # reorder stack\n",
        "        for name in names: # if necessary\n",
        "            tosQubit(name)\n",
        "    workspace = np.reshape(workspace,(-1,2**(len(names))))\n",
        "    subworkspace = workspace[:,-gate.shape[0]:]\n",
        "    np.matmul(subworkspace,gate.T,out=subworkspace)"
      ]
    },
    {
      "cell_type": "code",
      "execution_count": null,
      "id": "29ff3240-034e-46c1-aea4-2bacd588483b",
      "metadata": {
        "id": "29ff3240-034e-46c1-aea4-2bacd588483b"
      },
      "outputs": [],
      "source": [
        "# RAM ERROR\n",
        "def TOFF3_gate(q1,q2,q3,q4):\n",
        "    applyGate(X_gate,q1,q2,q3,q4)\n",
        "\n",
        "def TOFFn_gate(ctl,result):\n",
        "    applyGate(X_gate,*ctl,result)\n",
        "\n",
        "workspace = np.array([[1]],dtype=np.single)\n",
        "for i in range(20):\n",
        "    pushQubit(\"Q1\",[1,1])\n",
        "    pushQubit(\"Q2\",[1,1])\n",
        "    pushQubit(\"Q3\",[1,1])\n",
        "    pushQubit(\"Q4\",[1,0])\n",
        "\n",
        "TOFF3_gate(\"Q1\",\"Q2\",\"Q3\",\"Q4\")\n",
        "print(\"\".join([measureQubit(q) for q in\n",
        "      [\"Q1\",\"Q2\",\"Q3\",\"Q4\"]]),end=\"/\")\n",
        "pushQubit(\"Q1\",[1,1])\n",
        "pushQubit(\"Q2\",[1,1])\n",
        "pushQubit(\"Q3\",[1,1])\n",
        "pushQubit(\"Q4\",[1,0])\n",
        "TOFFn_gate([\"Q1\",\"Q2\",\"Q3\"],\"Q4\")\n",
        "print(\"\".join([measureQubit(q) for q in\n",
        "      [\"Q1\",\"Q2\",\"Q3\",\"Q4\"]]),end=\",\")\n",
        "# RAM ERROR"
      ]
    }
  ],
  "metadata": {
    "kernelspec": {
      "display_name": "Python 3 (ipykernel)",
      "language": "python",
      "name": "python3"
    },
    "language_info": {
      "codemirror_mode": {
        "name": "ipython",
        "version": 3
      },
      "file_extension": ".py",
      "mimetype": "text/x-python",
      "name": "python",
      "nbconvert_exporter": "python",
      "pygments_lexer": "ipython3",
      "version": "3.11.4"
    },
    "colab": {
      "provenance": [],
      "machine_shape": "hm"
    }
  },
  "nbformat": 4,
  "nbformat_minor": 5
}